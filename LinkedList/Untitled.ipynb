{
 "cells": [
  {
   "cell_type": "markdown",
   "metadata": {},
   "source": [
    "# Linked List"
   ]
  },
  {
   "cell_type": "markdown",
   "metadata": {},
   "source": [
    "A linked list is created by using the node class we studied in the last chapter. We create a Node object and create another class to use this ode object. We pass the appropriate values thorugh the node object to point the to the next data elements. The below program creates the linked list with three data elements. In the next section we will see how to traverse the linked list."
   ]
  },
  {
   "cell_type": "code",
   "execution_count": 7,
   "metadata": {},
   "outputs": [],
   "source": [
    "class Node:\n",
    "    def __init__(self,datavalue=None):\n",
    "        self.datavalue = datavalue\n",
    "        self.nextvalue = None\n",
    "        \n",
    "class SingleLinkedList:\n",
    "    def __init__(self):\n",
    "        self.headvalue = None\n",
    "\n",
    "list1 = SingleLinkedList()\n",
    "list1.headvalue = Node(\"Hello\")\n",
    "e2 = Node(\"World\")\n",
    "e3 = Node(\"!\")\n",
    "# link the first Node to second node\n",
    "list1.headvalue.nextvalue = e2\n",
    "\n",
    "# Link the second node to third\n",
    "e2.nextvalue = e3"
   ]
  },
  {
   "cell_type": "markdown",
   "metadata": {},
   "source": [
    "## Another Implementation"
   ]
  },
  {
   "cell_type": "code",
   "execution_count": 10,
   "metadata": {},
   "outputs": [],
   "source": [
    "class Node:\n",
    "    def __init__(self,data):\n",
    "        self.data = data\n",
    "        self.next = None\n",
    "        \n",
    "class LinkedList:\n",
    "    def __init__(self):\n",
    "        self.head = None\n",
    "        \n",
    "if __name__ == '__main__':\n",
    "    linkedlist = LinkedList()\n",
    "    linkedlist.head = Node(\"Arduino\")\n",
    "    second = Node(\"RaspberryPi\")\n",
    "    third  = Node(\"BannaPi\")\n",
    "    \n",
    "    linkedlist.head.next = second\n",
    "    second = third"
   ]
  },
  {
   "cell_type": "markdown",
   "metadata": {},
   "source": [
    "### Traversing A linked list"
   ]
  },
  {
   "cell_type": "code",
   "execution_count": 9,
   "metadata": {},
   "outputs": [
    {
     "name": "stdout",
     "output_type": "stream",
     "text": [
      "First\n",
      "Second\n",
      "Third\n",
      "Fourth\n"
     ]
    }
   ],
   "source": [
    "class Node:\n",
    "    def __init__(self,datavalue=None):\n",
    "        self.datavalue = datavalue\n",
    "        self.NextValue = None\n",
    "        \n",
    "class SingleLinkedList:\n",
    "    def __init__(self):\n",
    "        self.headvalue = None\n",
    "        \n",
    "    def printList(self):\n",
    "        printval = self.headvalue\n",
    "        while printval is not None:\n",
    "            print(printval.datavalue)\n",
    "            printval = printval.NextValue\n",
    "            \n",
    "list = SingleLinkedList()\n",
    "list.headvalue = Node(\"First\")\n",
    "e2 = Node(\"Second\")\n",
    "e3 = Node(\"Third\")\n",
    "e4 = Node(\"Fourth\")\n",
    "\n",
    "list.headvalue.NextValue = e2\n",
    "e2.NextValue = e3\n",
    "e3.NextValue = e4\n",
    "\n",
    "list.printList()"
   ]
  },
  {
   "cell_type": "markdown",
   "metadata": {},
   "source": [
    "## Insert at the beging of the list"
   ]
  },
  {
   "cell_type": "code",
   "execution_count": 13,
   "metadata": {},
   "outputs": [
    {
     "name": "stdout",
     "output_type": "stream",
     "text": [
      "Primary List \n",
      "First\n",
      "Second\n",
      "Third\n",
      "After inserting zero at the bgining\n",
      "Zero\n",
      "First\n",
      "Second\n",
      "Third\n"
     ]
    }
   ],
   "source": [
    "class Node:\n",
    "    def __init__(self,datavalue=None):\n",
    "        self.datavalue = datavalue\n",
    "        self.nextvalue = None\n",
    "class LinkedList:\n",
    "    def __init__(self):\n",
    "        self.headvalue = None\n",
    "        \n",
    "    def printList(self):\n",
    "        printval = self.headvalue\n",
    "        while printval is not None:\n",
    "            print(printval.datavalue)\n",
    "            printval = printval.nextvalue\n",
    "    \n",
    "    def InsertAtBegining(self,newdata):\n",
    "        NewNode = Node(newdata)\n",
    "        NewNode.nextvalue = self.headvalue\n",
    "        self.headvalue    = NewNode\n",
    "        \n",
    "list = LinkedList()\n",
    "list.headvalue = Node(\"First\")\n",
    "second = Node(\"Second\")\n",
    "Third  = Node(\"Third\")\n",
    "\n",
    "list.headvalue.nextvalue = second\n",
    "second.nextvalue = Third\n",
    "print(\"Primary List \")\n",
    "list.printList()\n",
    "list.InsertAtBegining(\"Zero\")\n",
    "print(\"After inserting zero at the bgining\")\n",
    "list.printList()"
   ]
  },
  {
   "cell_type": "code",
   "execution_count": null,
   "metadata": {},
   "outputs": [],
   "source": []
  }
 ],
 "metadata": {
  "kernelspec": {
   "display_name": "Python 3",
   "language": "python",
   "name": "python3"
  },
  "language_info": {
   "codemirror_mode": {
    "name": "ipython",
    "version": 3
   },
   "file_extension": ".py",
   "mimetype": "text/x-python",
   "name": "python",
   "nbconvert_exporter": "python",
   "pygments_lexer": "ipython3",
   "version": "3.6.8"
  }
 },
 "nbformat": 4,
 "nbformat_minor": 2
}
