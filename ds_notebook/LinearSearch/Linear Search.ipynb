{
 "cells": [
  {
   "cell_type": "code",
   "execution_count": 1,
   "metadata": {},
   "outputs": [],
   "source": [
    "# Linear Search"
   ]
  },
  {
   "cell_type": "code",
   "execution_count": 2,
   "metadata": {},
   "outputs": [],
   "source": [
    "## Python Linear Searching Example"
   ]
  },
  {
   "cell_type": "markdown",
   "metadata": {},
   "source": [
    "# Linear / Sequential Searching"
   ]
  },
  {
   "cell_type": "markdown",
   "metadata": {},
   "source": [
    "In Linear search,elements are examanied sequentially starting from the fist element . Element to be searched is the key element . is compare sequentially with all other elements in the list . \n",
    "\n",
    "### Time complexity of the Linear searching is \n",
    "O(1) [In Best case performance]\n",
    "\n",
    "Worst-case performance\t     O(n)\n",
    "Best-case performance \t     O(1)\n",
    "Average performance          O(n)\n",
    "Wrost case space complexity  O(1)"
   ]
  },
  {
   "cell_type": "markdown",
   "metadata": {},
   "source": [
    "<img src=\"linear-search.gif\">"
   ]
  },
  {
   "cell_type": "code",
   "execution_count": 13,
   "metadata": {},
   "outputs": [
    {
     "name": "stdout",
     "output_type": "stream",
     "text": [
      "Item position 6\n",
      "Item Found!\n"
     ]
    }
   ],
   "source": [
    "# Example Code for Linear Search in Python3\n",
    "\n",
    "def LinearSearch(List,key):\n",
    "    found_flag = 0\n",
    "    pos = 0\n",
    "    for i in range(len(List)):\n",
    "        if(List[i] == key):\n",
    "            found_flag += 1\n",
    "            pos = i\n",
    "        else:\n",
    "            pass\n",
    "    print (\"Item position {0}\".format(pos))\n",
    "    return found_flag\n",
    "\n",
    "def main():\n",
    "    List = [3,5,1,2,16,90,4,0]\n",
    "    key =  4\n",
    "    result = LinearSearch(List,key)\n",
    "    if result:\n",
    "        print (\"Item Found!\")\n",
    "    else:\n",
    "        print (\"No Item Found!\")\n",
    "\n",
    "if __name__ == '__main__':\n",
    "    main()\n",
    "    "
   ]
  },
  {
   "cell_type": "code",
   "execution_count": 20,
   "metadata": {},
   "outputs": [
    {
     "name": "stdout",
     "output_type": "stream",
     "text": [
      "[0, 1, 2, 3, 4, 5, 16, 90]\n",
      "Item position 4\n",
      "Item Found!\n"
     ]
    }
   ],
   "source": [
    "# perform the same with sorted list\n",
    "\n",
    "def LinearSearch(List,key):\n",
    "    found_flag = 0\n",
    "    pos = 0\n",
    "    SortedList = sorted(List)\n",
    "    print(SortedList)\n",
    "    for i in range(len(SortedList)):\n",
    "        if (SortedList[i] == key):\n",
    "            found_flag += 1\n",
    "            pos = i\n",
    "        else:\n",
    "            pass\n",
    "    print(\"Item position {0}\".format(pos))\n",
    "    return found_flag\n",
    "\n",
    "def main():\n",
    "    List = [3,5,1,2,16,90,4,0]\n",
    "    key = 4\n",
    "    result = LinearSearch(List,key)\n",
    "    if result:\n",
    "        print (\"Item Found!\")\n",
    "    else:\n",
    "        print (\"No Item Found!\")\n",
    "        \n",
    "if __name__ == '__main__':\n",
    "    main()"
   ]
  },
  {
   "cell_type": "code",
   "execution_count": null,
   "metadata": {},
   "outputs": [],
   "source": []
  }
 ],
 "metadata": {
  "kernelspec": {
   "display_name": "Python 3",
   "language": "python",
   "name": "python3"
  },
  "language_info": {
   "codemirror_mode": {
    "name": "ipython",
    "version": 3
   },
   "file_extension": ".py",
   "mimetype": "text/x-python",
   "name": "python",
   "nbconvert_exporter": "python",
   "pygments_lexer": "ipython3",
   "version": "3.6.8"
  }
 },
 "nbformat": 4,
 "nbformat_minor": 2
}
