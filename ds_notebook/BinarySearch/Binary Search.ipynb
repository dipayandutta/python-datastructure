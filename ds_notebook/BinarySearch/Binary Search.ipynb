{
 "cells": [
  {
   "cell_type": "markdown",
   "metadata": {},
   "source": [
    "## Binary Search"
   ]
  },
  {
   "cell_type": "markdown",
   "metadata": {},
   "source": [
    "For Binary Search , the list must be in sorted order .\n",
    "\n",
    "The Binary search Algorithm is based on The Following Three Conditions.\n",
    "\n",
    "1. If the key is less than the list's middle element then a programmer has to search only in the first half of the list.\n",
    "2. If the key is greater than the list's middle element then a programmer has to search only in the last half of the list.\n",
    "3. If the element to be found , i.e. the key element is equal to the middle element in the list then the search ends.\n",
    "\n",
    "### An Example\n",
    "\n",
    "Consider the sorted list of 10 integers<br/>\n",
    "10 18 19 20 25 28 48 55 62 70  <br/>\n",
    "Element to be search = 48 <br/>\n",
    "\n",
    "#### Iterantion - 1\n",
    "\n",
    "Index ----------------->  0   1   2   3   4   5   6   7   8   9 <br/>\n",
    "Elements of The List  10  18  19  20  25  28  48  55  62  70 <br/>\n",
    "\n",
    "<br/>\n",
    "Low  = 0 (index)<br/>\n",
    "High = 9 (index) <br/>\n",
    "Mid = (Low+High)/2<br/> \n",
    "    = (0+9)/2 <br/>\n",
    "    = 4 <br/>\n",
    "    \n",
    "So the middle item is 25 [at index 4] with the element that to search for 48 <br/>\n",
    "since 48 > 25 <br/>\n",
    "we will element the first half of the list and work with the last portion means from index 4 to 9 <br/>\n",
    "Now , <br/>\n",
    "#### Low = Mid + 1 = 4+1 = 5 <br/>\n",
    "#### High = 9( [remain same] <br/>\n",
    "\n",
    "<br/>\n",
    "#### Iterantion - 2\n",
    "<br/>\n",
    "Index --------------> 0   1   2   3   4   5   6   7   8   9 <br/>\n",
    "Elements of The List  10  18  19  20  25  28  48  55  62  70 <br/>\n",
    "<br/>\n",
    "Low  = 5 <br/>\n",
    "High = 9 <br/>\n",
    "Mid  = (Low + High)/2 <br/>\n",
    "     = (5+9)/2 <br/>\n",
    "     = 7 <br/>\n",
    "Now we will compare with the middle element which is 55 (at index 7) with the key element 48 <br/>\n",
    "since 48 < 55 <br/>\n",
    "We will search the item in the left half of the list  <br/>\n",
    "<br/>\n",
    "#### Low = 5 [remain the same]  <br/>\n",
    "#### High =Mid-1 = 7-1= 6 <br/>\n",
    "<br/>\n",
    "\n",
    "\n",
    "#### Iterantion - 3 \n",
    "<br/>\n",
    "Index --------------> 0   1   2   3   4   5   6   7   8   9 <br/>\n",
    "Elements of The List  10  18  19  20  25  28  48  55  62  70 <br/>\n",
    "\n",
    "Low  = 5 <br/>\n",
    "High = 6 <br/>\n",
    "Mid  = (Low + High)/2 <br/>\n",
    "     = (5+6)/2 <br/>\n",
    "     = 5 <br/>\n",
    "  \n",
    "Now we will compare with the middle element which is 28 (at index 5) with the key element 48 <br/>\n",
    "since 48>28 <br/>\n",
    "we will search the item in the right half .  <br/>\n",
    "<br/>\n",
    "#### Low = mid + 1 = 5+1 = 6\n",
    "#### High = 6\n",
    "\n",
    "<br/>\n",
    "#### Iterantion - 4\n",
    "\n",
    "Index --------------> 0   1   2   3   4   5   6   7   8   9 <br/>\n",
    "Elements of The List  10  18  19  20  25  28  48  55  62  70<br/>\n",
    "\n",
    "Low  = 6 <br/>\n",
    "High = 6 <br/>\n",
    "Mid  = (Low+High)/2 <br/>\n",
    "     = (6+6)/2 <br/>\n",
    "     = 6 <br/>\n",
    "     \n",
    " Item at the position 6 is 48 , which is same with the item to search from the list "
   ]
  },
  {
   "cell_type": "markdown",
   "metadata": {},
   "source": [
    "<img src=\"Binary_Search.gif\">"
   ]
  },
  {
   "cell_type": "code",
   "execution_count": 7,
   "metadata": {},
   "outputs": [
    {
     "name": "stdout",
     "output_type": "stream",
     "text": [
      "Item Found!\n",
      "Item index is 5\n"
     ]
    }
   ],
   "source": [
    "# Python Program to Demonstrate the Binary Search\n",
    "\n",
    "def Binary_Search(List,Key):\n",
    "    low  = 0\n",
    "    high = len(List)-1\n",
    "    pos = 0\n",
    "    while low<=high:\n",
    "        mid = (low+high)//2\n",
    "        if List[mid] == Key:\n",
    "            pos = mid\n",
    "            return mid,pos\n",
    "        elif Key > List[mid]:\n",
    "            low = mid+1\n",
    "        else:\n",
    "            high = mid-1\n",
    "    return -1 # if key not found\n",
    "\n",
    "def main():\n",
    "    List = [10,20,30,33,45,55,57,63]\n",
    "    Key = 55\n",
    "    result,pos = Binary_Search(List,Key)\n",
    "    \n",
    "    if result:\n",
    "        print(\"Item Found!\")\n",
    "        print(\"Item index is {0}\".format(pos))\n",
    "    else:\n",
    "        print(\"Key is not Present\")\n",
    "        \n",
    "if __name__ == '__main__':\n",
    "    main()"
   ]
  },
  {
   "cell_type": "code",
   "execution_count": null,
   "metadata": {},
   "outputs": [],
   "source": []
  }
 ],
 "metadata": {
  "kernelspec": {
   "display_name": "Python 3",
   "language": "python",
   "name": "python3"
  },
  "language_info": {
   "codemirror_mode": {
    "name": "ipython",
    "version": 3
   },
   "file_extension": ".py",
   "mimetype": "text/x-python",
   "name": "python",
   "nbconvert_exporter": "python",
   "pygments_lexer": "ipython3",
   "version": "3.6.8"
  }
 },
 "nbformat": 4,
 "nbformat_minor": 2
}
