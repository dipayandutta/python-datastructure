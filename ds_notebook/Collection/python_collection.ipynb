{
 "cells": [
  {
   "cell_type": "code",
   "execution_count": 1,
   "metadata": {},
   "outputs": [],
   "source": [
    "# Collection Module Example"
   ]
  },
  {
   "cell_type": "code",
   "execution_count": 3,
   "metadata": {},
   "outputs": [],
   "source": [
    "from collections import Counter"
   ]
  },
  {
   "cell_type": "code",
   "execution_count": 4,
   "metadata": {},
   "outputs": [],
   "source": [
    "cnt = Counter()"
   ]
  },
  {
   "cell_type": "code",
   "execution_count": 5,
   "metadata": {},
   "outputs": [],
   "source": [
    "list = [1,23,4,5,6,7]"
   ]
  },
  {
   "cell_type": "code",
   "execution_count": 6,
   "metadata": {},
   "outputs": [
    {
     "data": {
      "text/plain": [
       "Counter({1: 1, 23: 1, 4: 1, 5: 1, 6: 1, 7: 1})"
      ]
     },
     "execution_count": 6,
     "metadata": {},
     "output_type": "execute_result"
    }
   ],
   "source": [
    "Counter(list)"
   ]
  },
  {
   "cell_type": "code",
   "execution_count": 7,
   "metadata": {},
   "outputs": [],
   "source": [
    "list=['w','a','l','l','e']"
   ]
  },
  {
   "cell_type": "code",
   "execution_count": 8,
   "metadata": {},
   "outputs": [
    {
     "data": {
      "text/plain": [
       "Counter({'w': 1, 'a': 1, 'l': 2, 'e': 1})"
      ]
     },
     "execution_count": 8,
     "metadata": {},
     "output_type": "execute_result"
    }
   ],
   "source": [
    "Counter(list)"
   ]
  },
  {
   "cell_type": "code",
   "execution_count": 9,
   "metadata": {},
   "outputs": [
    {
     "name": "stdout",
     "output_type": "stream",
     "text": [
      "0\n"
     ]
    }
   ],
   "source": [
    "print(cnt[1])"
   ]
  },
  {
   "cell_type": "code",
   "execution_count": 11,
   "metadata": {},
   "outputs": [
    {
     "name": "stdout",
     "output_type": "stream",
     "text": [
      "0\n"
     ]
    }
   ],
   "source": [
    "print(cnt['l'])"
   ]
  },
  {
   "cell_type": "code",
   "execution_count": 12,
   "metadata": {},
   "outputs": [
    {
     "data": {
      "text/plain": [
       "['w', 'a', 'l', 'l', 'e']"
      ]
     },
     "execution_count": 12,
     "metadata": {},
     "output_type": "execute_result"
    }
   ],
   "source": [
    "list"
   ]
  },
  {
   "cell_type": "code",
   "execution_count": 14,
   "metadata": {},
   "outputs": [],
   "source": [
    "import collections"
   ]
  },
  {
   "cell_type": "code",
   "execution_count": 15,
   "metadata": {},
   "outputs": [],
   "source": [
    "c = collections.Counter('abcdefaabcd')"
   ]
  },
  {
   "cell_type": "code",
   "execution_count": 16,
   "metadata": {},
   "outputs": [
    {
     "name": "stdout",
     "output_type": "stream",
     "text": [
      "a 3\n",
      "b 2\n",
      "c 2\n",
      "d 2\n",
      "e 1\n",
      "f 1\n"
     ]
    }
   ],
   "source": [
    "for letter in 'abcdef':\n",
    "    print('{} {}'.format(letter,c[letter]))"
   ]
  },
  {
   "cell_type": "code",
   "execution_count": 17,
   "metadata": {},
   "outputs": [
    {
     "name": "stdout",
     "output_type": "stream",
     "text": [
      "Most Common: \n",
      "s   94565\n",
      "e   91232\n",
      "i   68704\n",
      "a   67068\n",
      "r   59094\n"
     ]
    }
   ],
   "source": [
    "import collections\n",
    "\n",
    "c = collections.Counter()\n",
    "with open('/usr/share/dict/words','rt') as f:\n",
    "    for line in f:\n",
    "        c.update(line.rstrip().lower())\n",
    "        \n",
    "print ('Most Common: ')\n",
    "for letter, count in c.most_common(5):\n",
    "    print('{} {:>7}'.format(letter,count))"
   ]
  },
  {
   "cell_type": "markdown",
   "metadata": {},
   "source": [
    "#### The ChainMap class manages a sequence of dictionaries, and searches through them in the order they are given to find values associated with keys. A ChainMap makes a good “context” container, since it can be treated as a stack for which changes happen as the stack grows, with these changes being discarded again as the stack shrinks."
   ]
  },
  {
   "cell_type": "code",
   "execution_count": 10,
   "metadata": {},
   "outputs": [],
   "source": [
    "# Chain Map example"
   ]
  },
  {
   "cell_type": "code",
   "execution_count": 15,
   "metadata": {},
   "outputs": [
    {
     "name": "stdout",
     "output_type": "stream",
     "text": [
      "ChainMap({'a': 'A', 'c': 'C'}, {'b': 'B', 'd': 'D'})\n",
      "Indiviual Values\n",
      "a= A\n",
      "b = B \n",
      "c=C\n",
      "d = D\n",
      "Printing Keys Only\n",
      "Keys = ['a', 'b', 'd', 'c']\n",
      "Printing Only values\n",
      "values = ['A', 'B', 'D', 'C']\n",
      "Items\n",
      "a A\n",
      "b B\n",
      "d D\n",
      "c C\n"
     ]
    }
   ],
   "source": [
    "import collections\n",
    "\n",
    "a = {'a':'A','c':'C'}\n",
    "b = {'b':'B','d':'D'}\n",
    "\n",
    "m = collections.ChainMap(a,b)\n",
    "print(m)\n",
    "\n",
    "print (\"Indiviual Values\")\n",
    "print('a= {}'.format(m['a']))\n",
    "print('b = {} '.format(m['b']))\n",
    "print('c={}'.format(m['c']))\n",
    "print('d = {}'.format(m['d']))\n",
    "\n",
    "\n",
    "print('Printing Keys Only')\n",
    "print('Keys = {}'.format(list(m.keys())))\n",
    "\n",
    "print('Printing Only values')\n",
    "print('values = {}'.format(list(m.values())))\n",
    "\n",
    "print('Items')\n",
    "for key,value in m.items():\n",
    "    print('{} {}'.format(key,value))\n",
    "\n"
   ]
  },
  {
   "cell_type": "code",
   "execution_count": null,
   "metadata": {},
   "outputs": [],
   "source": []
  }
 ],
 "metadata": {
  "kernelspec": {
   "display_name": "Python 3",
   "language": "python",
   "name": "python3"
  },
  "language_info": {
   "codemirror_mode": {
    "name": "ipython",
    "version": 3
   },
   "file_extension": ".py",
   "mimetype": "text/x-python",
   "name": "python",
   "nbconvert_exporter": "python",
   "pygments_lexer": "ipython3",
   "version": "3.6.8"
  }
 },
 "nbformat": 4,
 "nbformat_minor": 2
}
