{
 "cells": [
  {
   "cell_type": "code",
   "execution_count": 1,
   "metadata": {},
   "outputs": [],
   "source": [
    "# Stack implementation in python3"
   ]
  },
  {
   "cell_type": "code",
   "execution_count": 6,
   "metadata": {},
   "outputs": [
    {
     "name": "stdout",
     "output_type": "stream",
     "text": [
      "True\n",
      "True\n",
      "True\n",
      "False\n",
      "True\n",
      "Curernt items in the Stack are ...\n",
      "3\n",
      "2\n",
      "1\n",
      "10\n",
      "None\n",
      "Size of the stack is \n",
      "4\n",
      "Deleting an item from the stack\n",
      "10\n",
      "After deletion items in the stack are\n",
      "3\n",
      "2\n",
      "1\n",
      "None\n"
     ]
    }
   ],
   "source": [
    "class Stack:\n",
    "    def __init__(self):\n",
    "        self.Stack = list()\n",
    "        \n",
    "    #Adding elements to stack\n",
    "    def push(self,data):\n",
    "        # checking for duplication data\n",
    "        if data not in self.Stack:\n",
    "            self.Stack.append(data)\n",
    "            return True\n",
    "        return False\n",
    "    #Removing last emenet from the stack\n",
    "    def pop(self):\n",
    "        msg = \"Stack empty\"\n",
    "        if len(self.Stack)<=0:\n",
    "            return msg\n",
    "        return self.Stack.pop()\n",
    "        \n",
    "    #Getting the size of the stack\n",
    "    def size(self):\n",
    "        return len(self.Stack)\n",
    "    \n",
    "    #Stack items\n",
    "    def item(self):\n",
    "        for item in self.Stack:\n",
    "            print(item)\n",
    "    \n",
    "myStack = Stack()\n",
    "print(myStack.push(3))\n",
    "print(myStack.push(2))\n",
    "print(myStack.push(1))\n",
    "print(myStack.push(3))\n",
    "print(myStack.push(10))\n",
    "print(\"Curernt items in the Stack are ...\")\n",
    "print(myStack.item())\n",
    "print(\"Size of the stack is \")\n",
    "print(myStack.size())\n",
    "print(\"Deleting an item from the stack\")\n",
    "print(myStack.pop())\n",
    "print(\"After deletion items in the stack are\")\n",
    "print(myStack.item())"
   ]
  },
  {
   "cell_type": "code",
   "execution_count": null,
   "metadata": {},
   "outputs": [],
   "source": []
  }
 ],
 "metadata": {
  "kernelspec": {
   "display_name": "Python 3",
   "language": "python",
   "name": "python3"
  },
  "language_info": {
   "codemirror_mode": {
    "name": "ipython",
    "version": 3
   },
   "file_extension": ".py",
   "mimetype": "text/x-python",
   "name": "python",
   "nbconvert_exporter": "python",
   "pygments_lexer": "ipython3",
   "version": "3.6.8"
  }
 },
 "nbformat": 4,
 "nbformat_minor": 2
}
